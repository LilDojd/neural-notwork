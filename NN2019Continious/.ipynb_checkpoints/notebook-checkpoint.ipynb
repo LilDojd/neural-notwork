{
 "cells": [
  {
   "cell_type": "code",
   "execution_count": 1,
   "metadata": {},
   "outputs": [],
   "source": [
    "%run extract.py"
   ]
  },
  {
   "cell_type": "code",
   "execution_count": 2,
   "metadata": {},
   "outputs": [],
   "source": [
    "coordinate_system = grids.CoordinateSystem[\"cartesian\"]\n",
    "z_direction = grids.ZDirection[\"backbone\"]"
   ]
  },
  {
   "cell_type": "code",
   "execution_count": 3,
   "metadata": {
    "scrolled": true
   },
   "outputs": [],
   "source": [
    "pdb_id, features, masses_array, charges_array, aa_one_hot, res_index_array, chain_boundary_indices, chain_ids = extract_mass_charge(\"struct_dfpase_191D_start_lig_fix_0001.pdb\", 4, smooth=False)"
   ]
  },
  {
   "cell_type": "code",
   "execution_count": null,
   "metadata": {
    "scrolled": true
   },
   "outputs": [],
   "source": [
    "mattest = np.arange(54).reshape(3,3,3,2)\n",
    "mattest[:,:,:,1].shape"
   ]
  },
  {
   "cell_type": "code",
   "execution_count": 52,
   "metadata": {},
   "outputs": [
    {
     "name": "stdout",
     "output_type": "stream",
     "text": [
      "[[146 220 132]\n",
      " [152 221 134]\n",
      " [150 218 128]\n",
      " ...\n",
      " [141  73 227]\n",
      " [144  90 228]\n",
      " [143  81 232]]\n"
     ]
    },
    {
     "name": "stderr",
     "output_type": "stream",
     "text": [
      "/Users/georgiyandreev/anaconda3/lib/python3.6/site-packages/ipykernel_launcher.py:21: DeprecationWarning: elementwise comparison failed; this will raise an error in the future.\n"
     ]
    },
    {
     "name": "stdout",
     "output_type": "stream",
     "text": [
      "False\n",
      "2372\n",
      "(array([ 36,  38,  38, ..., 236, 237, 241]), array([127,  67,  76, ...,  72,  65,  68]), array([163,  99, 103, ..., 135, 109, 113]), array([1, 1, 1, ..., 1, 1, 1]))\n",
      "[[150 213 135]\n",
      " [156 212 134]\n",
      " [147 209 132]\n",
      " ...\n",
      " [141  77 225]\n",
      " [143  86 225]\n",
      " [142  81 228]]\n",
      "False\n",
      "3930\n"
     ]
    },
    {
     "name": "stderr",
     "output_type": "stream",
     "text": [
      "/Users/georgiyandreev/anaconda3/lib/python3.6/site-packages/ipykernel_launcher.py:21: DeprecationWarning: elementwise comparison failed; this will raise an error in the future.\n"
     ]
    },
    {
     "name": "stdout",
     "output_type": "stream",
     "text": [
      "(array([ 36,  38,  38, ..., 236, 237, 241]), array([127,  67,  76, ...,  72,  65,  68]), array([163,  99, 103, ..., 135, 109, 113]), array([1, 1, 1, ..., 1, 1, 1]))\n",
      "[[149 219 132]\n",
      " [159 211 139]\n",
      " [171 205 134]\n",
      " ...\n",
      " [125  63 212]\n",
      " [124  76 216]\n",
      " [131  82 211]]\n"
     ]
    },
    {
     "name": "stderr",
     "output_type": "stream",
     "text": [
      "/Users/georgiyandreev/anaconda3/lib/python3.6/site-packages/ipykernel_launcher.py:21: DeprecationWarning: elementwise comparison failed; this will raise an error in the future.\n"
     ]
    },
    {
     "name": "stdout",
     "output_type": "stream",
     "text": [
      "False\n",
      "4346\n",
      "(array([ 36,  38,  38, ..., 237, 237, 241]), array([127,  67,  76, ...,  65,  67,  68]), array([163,  99, 103, ..., 109, 112, 113]), array([1, 1, 1, ..., 1, 1, 1]))\n",
      "[[158 212 130]\n",
      " [163 201 136]\n",
      " [181 202 136]\n",
      " ...\n",
      " [126  90 214]\n",
      " [132  87 200]\n",
      " [138  81 201]]\n",
      "False\n",
      "4811\n"
     ]
    },
    {
     "name": "stderr",
     "output_type": "stream",
     "text": [
      "/Users/georgiyandreev/anaconda3/lib/python3.6/site-packages/ipykernel_launcher.py:21: DeprecationWarning: elementwise comparison failed; this will raise an error in the future.\n"
     ]
    },
    {
     "name": "stdout",
     "output_type": "stream",
     "text": [
      "(array([ 36,  37,  38, ..., 237, 237, 241]), array([127,  85,  67, ...,  65,  67,  68]), array([163,  99,  99, ..., 109, 112, 113]), array([1, 1, 1, ..., 1, 1, 1]))\n",
      "[[151  49  94]\n",
      " [148  79 120]\n",
      " [145  84 151]\n",
      " [125 105  73]\n",
      " [ 85  76  95]\n",
      " [103  89  97]\n",
      " [124  91 121]\n",
      " [118 142  57]\n",
      " [ 82  94 138]\n",
      " [ 86  78 113]\n",
      " [ 86 142 192]\n",
      " [124 146 125]\n",
      " [168 193 148]\n",
      " [181 161 105]\n",
      " [139  83 156]]\n"
     ]
    },
    {
     "name": "stderr",
     "output_type": "stream",
     "text": [
      "/Users/georgiyandreev/anaconda3/lib/python3.6/site-packages/ipykernel_launcher.py:21: DeprecationWarning: elementwise comparison failed; this will raise an error in the future.\n"
     ]
    },
    {
     "name": "stdout",
     "output_type": "stream",
     "text": [
      "False\n",
      "4826\n",
      "(array([ 36,  37,  38, ..., 237, 237, 241]), array([127,  85,  67, ...,  65,  67,  68]), array([163,  99,  99, ..., 109, 112, 113]), array([1, 1, 1, ..., 1, 1, 1]))\n"
     ]
    }
   ],
   "source": [
    "b_g = wave_transform_smoothing(features, n_bins=4)"
   ]
  },
  {
   "cell_type": "code",
   "execution_count": 51,
   "metadata": {},
   "outputs": [],
   "source": [
    "def wave_transform_smoothing(features, n_bins=4):\n",
    "    all_coords = structured_to_unstructured(features[['x', 'y', 'z']], dtype=np.float32)\n",
    "    all_coords.reshape(all_coords.shape[0], 3)\n",
    "    box_grid, max_val, min_val, radius = grids.create_cartesian_box(all_coords, n_bins)\n",
    "\n",
    "    assert (len(box_grid.shape) == 4)\n",
    "    assert (box_grid.shape[0] == box_grid.shape[1] == box_grid.shape[2])\n",
    "    n_b = box_grid.shape[0]\n",
    "    boundaries = np.linspace(np.floor(min_val - 3), np.ceil(max_val + 3), n_b, endpoint=False)\n",
    "    boundaries += (boundaries[1] - boundaries[0])\n",
    "\n",
    "    for atom in np.unique(features['mass']):\n",
    "        box_temp = np.zeros_like(box_grid[:,:,:,0])\n",
    "        # extract features unique for all atom types\n",
    "        atom_feat = features[features['mass'] == atom]\n",
    "        atom_coords = structured_to_unstructured(atom_feat[['x', 'y', 'z']], dtype=np.float32)\n",
    "        indexx = np.digitize(atom_coords, boundaries)\n",
    "        print(atom_coords.shape)\n",
    "        # Vectorized cycle\n",
    "        a, b, c = indexx.T.tolist()\n",
    "        box_temp[a, b, c] = atom_feat['charge']\n",
    "        box_grid[a, b, c, 1] += atom_feat['mass']\n",
    "        box_grid[:, :, :, 0] += 0\n",
    "\n",
    "    # for mass in np.unique(features[['mass']]):\n",
    "    #     sigma_hradius = np.ceil(VdWs[mass[0]] * n_bins) / 4\n",
    "    #     kernel = construct_kernel(sigma_hradius)\n",
    "\n",
    "    limiter = np.absolute(box_grid) < np.power(10., -5)\n",
    "    box_grid[limiter] = 0\n",
    "\n",
    "    assert (box_grid.shape == (n_b, n_b, n_b, 2))\n",
    "    return box_grid"
   ]
  },
  {
   "cell_type": "code",
   "execution_count": null,
   "metadata": {},
   "outputs": [],
   "source": [
    "def pos_to_coord(x):\n",
    "    return bounds[x] + 0.125"
   ]
  },
  {
   "cell_type": "code",
   "execution_count": null,
   "metadata": {},
   "outputs": [],
   "source": [
    "vector_ptc = np.vectorize(pos_to_coord, otypes=[np.float32])"
   ]
  },
  {
   "cell_type": "code",
   "execution_count": null,
   "metadata": {},
   "outputs": [],
   "source": [
    "vector_ptc(pos_array)"
   ]
  },
  {
   "cell_type": "code",
   "execution_count": null,
   "metadata": {},
   "outputs": [],
   "source": [
    "positions = np.where(xar != 0)"
   ]
  },
  {
   "cell_type": "code",
   "execution_count": null,
   "metadata": {},
   "outputs": [],
   "source": [
    "import pandas as pd"
   ]
  },
  {
   "cell_type": "code",
   "execution_count": null,
   "metadata": {},
   "outputs": [],
   "source": [
    "pos_array = np.column_stack(positions)"
   ]
  },
  {
   "cell_type": "code",
   "execution_count": null,
   "metadata": {},
   "outputs": [],
   "source": [
    "pd.DataFrame(pos_array, columns=['x','y','z']).apply(lambda x: x + 0)"
   ]
  },
  {
   "cell_type": "code",
   "execution_count": null,
   "metadata": {},
   "outputs": [],
   "source": [
    "np.where(mattest % 3 == 0)"
   ]
  },
  {
   "cell_type": "code",
   "execution_count": 4,
   "metadata": {},
   "outputs": [],
   "source": [
    "import smoothen"
   ]
  },
  {
   "cell_type": "code",
   "execution_count": 5,
   "metadata": {},
   "outputs": [
    {
     "ename": "IndexError",
     "evalue": "index 132 is out of bounds for axis 2 with size 2",
     "output_type": "error",
     "traceback": [
      "\u001b[0;31m---------------------------------------------------------------------------\u001b[0m",
      "\u001b[0;31mIndexError\u001b[0m                                Traceback (most recent call last)",
      "\u001b[0;32m<ipython-input-5-42b2ac648aa2>\u001b[0m in \u001b[0;36m<module>\u001b[0;34m\u001b[0m\n\u001b[0;32m----> 1\u001b[0;31m \u001b[0mxar\u001b[0m \u001b[0;34m=\u001b[0m \u001b[0msmoothen\u001b[0m\u001b[0;34m.\u001b[0m\u001b[0mwave_transform_smoothing\u001b[0m\u001b[0;34m(\u001b[0m\u001b[0mfeatures\u001b[0m\u001b[0;34m,\u001b[0m \u001b[0mn_bins\u001b[0m\u001b[0;34m=\u001b[0m\u001b[0;36m4\u001b[0m\u001b[0;34m)\u001b[0m\u001b[0;34m\u001b[0m\u001b[0;34m\u001b[0m\u001b[0m\n\u001b[0m",
      "\u001b[0;32m~/Documents/FBB/INFPlayground/neural-notwork/NN2019/smoothen.py\u001b[0m in \u001b[0;36mwave_transform_smoothing\u001b[0;34m(features, n_bins)\u001b[0m\n\u001b[1;32m     63\u001b[0m         \u001b[0;31m# Vectorized cycle\u001b[0m\u001b[0;34m\u001b[0m\u001b[0;34m\u001b[0m\u001b[0;34m\u001b[0m\u001b[0m\n\u001b[1;32m     64\u001b[0m         \u001b[0ma\u001b[0m\u001b[0;34m,\u001b[0m \u001b[0mb\u001b[0m\u001b[0;34m,\u001b[0m \u001b[0mc\u001b[0m \u001b[0;34m=\u001b[0m \u001b[0mindexx\u001b[0m\u001b[0;34m.\u001b[0m\u001b[0mT\u001b[0m\u001b[0;34m.\u001b[0m\u001b[0mtolist\u001b[0m\u001b[0;34m(\u001b[0m\u001b[0;34m)\u001b[0m\u001b[0;34m\u001b[0m\u001b[0;34m\u001b[0m\u001b[0m\n\u001b[0;32m---> 65\u001b[0;31m         \u001b[0mbox_temp\u001b[0m\u001b[0;34m[\u001b[0m\u001b[0ma\u001b[0m\u001b[0;34m,\u001b[0m \u001b[0mb\u001b[0m\u001b[0;34m,\u001b[0m \u001b[0mc\u001b[0m\u001b[0;34m]\u001b[0m \u001b[0;34m=\u001b[0m \u001b[0matom_feat\u001b[0m\u001b[0;34m[\u001b[0m\u001b[0;34m'charge'\u001b[0m\u001b[0;34m]\u001b[0m\u001b[0;34m\u001b[0m\u001b[0;34m\u001b[0m\u001b[0m\n\u001b[0m\u001b[1;32m     66\u001b[0m         \u001b[0mbox_grid\u001b[0m\u001b[0;34m[\u001b[0m\u001b[0ma\u001b[0m\u001b[0;34m,\u001b[0m \u001b[0mb\u001b[0m\u001b[0;34m,\u001b[0m \u001b[0mc\u001b[0m\u001b[0;34m,\u001b[0m \u001b[0;36m1\u001b[0m\u001b[0;34m]\u001b[0m \u001b[0;34m+=\u001b[0m \u001b[0matom_feat\u001b[0m\u001b[0;34m[\u001b[0m\u001b[0;34m'mass'\u001b[0m\u001b[0;34m]\u001b[0m\u001b[0;34m\u001b[0m\u001b[0;34m\u001b[0m\u001b[0m\n\u001b[1;32m     67\u001b[0m         \u001b[0mbox_grid\u001b[0m\u001b[0;34m[\u001b[0m\u001b[0;34m:\u001b[0m\u001b[0;34m,\u001b[0m \u001b[0;34m:\u001b[0m\u001b[0;34m,\u001b[0m \u001b[0;34m:\u001b[0m\u001b[0;34m,\u001b[0m \u001b[0;36m0\u001b[0m\u001b[0;34m]\u001b[0m \u001b[0;34m+=\u001b[0m \u001b[0mfft_conv\u001b[0m\u001b[0;34m(\u001b[0m\u001b[0matom\u001b[0m\u001b[0;34m,\u001b[0m \u001b[0mnp\u001b[0m\u001b[0;34m.\u001b[0m\u001b[0msqueeze\u001b[0m\u001b[0;34m(\u001b[0m\u001b[0mbox_temp\u001b[0m\u001b[0;34m)\u001b[0m\u001b[0;34m,\u001b[0m \u001b[0mn_bins\u001b[0m\u001b[0;34m)\u001b[0m\u001b[0;34m\u001b[0m\u001b[0;34m\u001b[0m\u001b[0m\n",
      "\u001b[0;31mIndexError\u001b[0m: index 132 is out of bounds for axis 2 with size 2"
     ]
    }
   ],
   "source": [
    "xar = smoothen.wave_transform_smoothing(features, n_bins=4)"
   ]
  },
  {
   "cell_type": "code",
   "execution_count": null,
   "metadata": {},
   "outputs": [],
   "source": [
    "all_coords = structured_to_unstructured(features[['x', 'y', 'z']], dtype=np.float32)\n",
    "all_coords.reshape(all_coords.shape[0], 3)"
   ]
  },
  {
   "cell_type": "code",
   "execution_count": null,
   "metadata": {},
   "outputs": [],
   "source": [
    "box_grid, max_val, min_val, radius = grids.create_cartesian_box(all_coords, 4)"
   ]
  },
  {
   "cell_type": "code",
   "execution_count": null,
   "metadata": {},
   "outputs": [],
   "source": [
    "a, b, c"
   ]
  },
  {
   "cell_type": "code",
   "execution_count": null,
   "metadata": {},
   "outputs": [],
   "source": [
    "a, b, c = indexx.T.tolist()\n",
    "box_temp[a, b, c] = atom_feat['charge']\n",
    "box_temp[151, 49, 94]"
   ]
  },
  {
   "cell_type": "code",
   "execution_count": null,
   "metadata": {},
   "outputs": [],
   "source": [
    "import numpy as np\n",
    "x = np.array([[ 1.,  2.,  3.],\n",
    "              [ 4.,  5.,  6.],\n",
    "              [ 7.,  8.,  9.]])\n",
    "rows = np.array([[0, 0, 1, 1]], dtype=np.intp)\n",
    "columns = np.array([[0, 1, 1, 2]], dtype=np.intp)\n",
    "x[rows, columns]"
   ]
  },
  {
   "cell_type": "code",
   "execution_count": null,
   "metadata": {},
   "outputs": [],
   "source": [
    "smoothen.wave_transform_smoothing(features, n_bins=4)"
   ]
  },
  {
   "cell_type": "code",
   "execution_count": null,
   "metadata": {},
   "outputs": [],
   "source": [
    "def wave_transform_smoothing(features, n_bins=4):\n",
    "    all_coords = structured_to_unstructured(features[['x', 'y', 'z']], dtype=np.float32)\n",
    "    all_coords.reshape(all_coords.shape[0], 3)\n",
    "    box_grid, max_val, min_val, radius = grids.create_cartesian_box(all_coords, n_bins)\n",
    "\n",
    "    assert (len(box_grid.shape) == 4)\n",
    "    assert (box_grid.shape[0] == box_grid.shape[1] == box_grid.shape[2])\n",
    "    n_b = box_grid.shape[0]\n",
    "    box_grid = box_grid.squeeze()\n",
    "    # len of one side\n",
    "    boundaries = np.linspace(np.floor(min_val - 3), np.ceil(max_val + 3), n_b, endpoint=False)\n",
    "    boundaries += (boundaries[1] - boundaries[0])\n",
    "\n",
    "    for atom in np.unique(features['mass']):\n",
    "        box_temp = np.zeros_like(box_grid)\n",
    "        # extract features unique for all atom types\n",
    "        atom_feat = features[features['mass'] == atom]\n",
    "        atom_coords = structured_to_unstructured(atom_feat[['x', 'y', 'z']], dtype=np.float32)\n",
    "        indexx = np.digitize(atom_coords, boundaries)\n",
    "        print(indexx)\n",
    "        # Vectorize somehow\n",
    "        for ind, row in enumerate(indexx[:]):\n",
    "            box_temp[row[0], row[1], row[2]] = atom_feat[ind]['charge']\n",
    "        box_grid += fft_conv(atom, np.squeeze(box_temp), n_bins)\n",
    "\n",
    "    # for mass in np.unique(features[['mass']]):\n",
    "    #     sigma_hradius = np.ceil(VdWs[mass[0]] * n_bins) / 4\n",
    "    #     kernel = construct_kernel(sigma_hradius)\n",
    "\n",
    "    limiter = np.absolute(box_grid) < np.power(10., -5)\n",
    "    box_grid[limiter] = 0\n",
    "\n",
    "    assert (box_grid.shape == (n_b, n_b, n_b))\n",
    "    return box_grid"
   ]
  },
  {
   "cell_type": "code",
   "execution_count": null,
   "metadata": {},
   "outputs": [],
   "source": [
    "boundbox = np.meshgrid(boundaries, boundaries, boundaries)\n",
    "print(boundbox[0])"
   ]
  },
  {
   "cell_type": "code",
   "execution_count": null,
   "metadata": {},
   "outputs": [],
   "source": [
    "xx, yy, zz = np.meshgrid(boundaries, boundaries, boundaries)"
   ]
  },
  {
   "cell_type": "code",
   "execution_count": null,
   "metadata": {},
   "outputs": [],
   "source": [
    "xyz = np.vstack()"
   ]
  },
  {
   "cell_type": "code",
   "execution_count": null,
   "metadata": {},
   "outputs": [],
   "source": [
    "    for atom in np.unique(features['mass']):\n",
    "        box_temp = np.zeros_like(box_grid)\n",
    "        # extract features unique for all atom types\n",
    "        atom_feat = features[features['mass'] == atom]\n",
    "        atom_coords = structured_to_unstructured(atom_feat[['x', 'y', 'z']], dtype=np.float32)\n",
    "        indexx = grids.discretize_into_cartesian_bins(atom_coords, radius, box_grid.shape)\n",
    "        print(indexx)"
   ]
  },
  {
   "cell_type": "code",
   "execution_count": null,
   "metadata": {},
   "outputs": [],
   "source": [
    "print(all_coords)"
   ]
  },
  {
   "cell_type": "code",
   "execution_count": null,
   "metadata": {},
   "outputs": [],
   "source": [
    "import pptk"
   ]
  },
  {
   "cell_type": "code",
   "execution_count": null,
   "metadata": {},
   "outputs": [],
   "source": [
    "P = structured_to_unstructured(features[['x', 'y', 'z']], dtype=np.float32).squeeze()\n",
    "v = pptk.viewer(P)"
   ]
  },
  {
   "cell_type": "code",
   "execution_count": null,
   "metadata": {},
   "outputs": [],
   "source": [
    "kernlen = np.ceil((2 * 2) * 4)\n",
    "print(kernlen)"
   ]
  },
  {
   "cell_type": "code",
   "execution_count": null,
   "metadata": {},
   "outputs": [],
   "source": [
    "n_b = box_grid.shape[0]\n",
    "\n",
    "boundaries = np.linspace(np.floor(min_val - 5), np.ceil(max_val + 5), n_b, endpoint=False)\n",
    "boundaries += (boundaries[1] - boundaries[0])\n",
    "\n",
    "indexx = np.digitize(all_coords, boundaries).reshape(all_coords.shape[0], 3)"
   ]
  },
  {
   "cell_type": "code",
   "execution_count": null,
   "metadata": {},
   "outputs": [],
   "source": [
    "shape = box_grid.shape[0]\n",
    "box_grid = box_grid.reshape(shape, shape, shape)"
   ]
  },
  {
   "cell_type": "code",
   "execution_count": null,
   "metadata": {},
   "outputs": [],
   "source": [
    "%%time\n",
    "for ind, row in np.ndenumerate(indexx[:]):\n",
    "    box_grid[row[0], row[1], row[2]] = features[['charge']][ind][0][0]"
   ]
  },
  {
   "cell_type": "code",
   "execution_count": null,
   "metadata": {},
   "outputs": [],
   "source": []
  },
  {
   "cell_type": "code",
   "execution_count": null,
   "metadata": {},
   "outputs": [],
   "source": [
    "\"\"\"Stored in a separate module so it can be readily accessed both by feature extraction and model. Modified version\n",
    "of 2017 Jes Frellsen and Wouter Boomsma module\n",
    "\n",
    "Some additional opportunities:\n",
    "https://www.researchgate.net/publication/224017908_The_Evolution_of_Dynamical_Cores_for_Global_Atmospheric_Models\n",
    "/figures?lo=1\"\"\"\n",
    "\n",
    "import enum\n",
    "import sys\n",
    "\n",
    "import Bio.PDB\n",
    "import numpy as np\n",
    "\n",
    "sys.path.append('..')\n",
    "\n",
    "# noinspection PyArgumentList\n",
    "CoordinateSystem = enum.Enum(\"CoordinateSystem\", {\"spherical\": 1, \"cubed_sphere\": 2, \"cartesian\": 3})\n",
    "# noinspection PyArgumentList\n",
    "ZDirection = enum.Enum(\"ZDirection\", {\"sidechain\": 1, \"backbone\": 2, \"outward\": 3})\n",
    "\n",
    "\n",
    "def get_spherical_grid_shape(max_radius, n_features, bins_per_angstrom):\n",
    "    \"\"\"Defines shape of grid matrix\"\"\"\n",
    "    return (int(np.ceil(bins_per_angstrom * max_radius)),  # Shell num\n",
    "            int(np.ceil(bins_per_angstrom * max_radius * np.pi)),\n",
    "            int(np.ceil(bins_per_angstrom * max_radius * 2 * np.pi)),\n",
    "            n_features)\n",
    "\n",
    "\n",
    "def create_spherical_grid(max_radius, n_features, bins_per_angstrom):\n",
    "    \"\"\"Creates empty spherical grid\"\"\"\n",
    "\n",
    "    grid_matrix = np.zeros(shape=get_spherical_grid_shape(max_radius, n_features, bins_per_angstrom))\n",
    "\n",
    "    return grid_matrix\n",
    "\n",
    "\n",
    "def get_cubed_sphere_grid_shape(max_radius, n_features, bins_per_angstrom):\n",
    "    \"\"\"Defines shape of grid matrix\n",
    "    See http://acmg.seas.harvard.edu/geos/cubed_sphere/CubeSphere_comparision.html\n",
    "    http://acmg.seas.harvard.edu/geos/cubed_sphere/CubeSphere_step-by-step.html for reference\"\"\"\n",
    "    return (6,\n",
    "            int(np.ceil(bins_per_angstrom * max_radius)),\n",
    "            int(np.ceil(bins_per_angstrom * max_radius * np.pi / 2)),\n",
    "            int(np.ceil(bins_per_angstrom * max_radius * np.pi / 2)),\n",
    "            n_features)\n",
    "\n",
    "\n",
    "def create_cubed_sphere_grid(max_radius, n_features, bins_per_angstrom):\n",
    "    \"\"\"Creates cubed sphere grid\"\"\"\n",
    "\n",
    "    grid_matrix = np.zeros(shape=get_cubed_sphere_grid_shape(max_radius, n_features, bins_per_angstrom))\n",
    "\n",
    "    return grid_matrix\n",
    "\n",
    "\n",
    "def get_cartesian_grid_shape(max_radius, n_features, bins_per_angstrom):\n",
    "    \"\"\"Defines shape of grid matrix\"\"\"\n",
    "    return 3 * (int(np.ceil(2 * bins_per_angstrom * max_radius)),) + (n_features,)\n",
    "\n",
    "\n",
    "def create_cartesian_grid(max_radius, n_features, bins_per_angstrom):\n",
    "    \"\"\"Creates cartesian grid\"\"\"\n",
    "\n",
    "    grid_matrix = np.zeros(shape=get_cartesian_grid_shape(max_radius, n_features, bins_per_angstrom))\n",
    "\n",
    "    return grid_matrix\n",
    "\n",
    "\n",
    "get_grid_shape_map = {CoordinateSystem.spherical: get_spherical_grid_shape,\n",
    "                      CoordinateSystem.cubed_sphere: get_cubed_sphere_grid_shape,\n",
    "                      CoordinateSystem.cartesian: get_cartesian_grid_shape}\n",
    "\n",
    "create_grid_map = {CoordinateSystem.spherical: create_spherical_grid,\n",
    "                   CoordinateSystem.cubed_sphere: create_cubed_sphere_grid,\n",
    "                   CoordinateSystem.cartesian: create_cartesian_grid}\n",
    "\n",
    "\n",
    "def define_coordinate_system(pos_N, pos_CA, pos_C, z_direction):\n",
    "    \"\"\"Defines a local reference system based on N, CA, and C atom positions\"\"\"\n",
    "\n",
    "    # Define local coordinate system\n",
    "    e1 = (pos_C - pos_N)\n",
    "    # Normalised vector e1 (backbone direction)\n",
    "    e1 /= np.linalg.norm(e1)\n",
    "\n",
    "    # Define CB positions by rotating N atoms around CA-C axis 120 degr\n",
    "    pos_N_res = pos_N - pos_CA\n",
    "    axis = pos_CA - pos_C\n",
    "    # Calculate left rotational matrix that rotates 120 degr around axis vector\n",
    "    pos_CB = np.dot(Bio.PDB.rotaxis((120. / 180.) * np.pi, Bio.PDB.vectors.Vector(axis[0, :])), pos_N_res.T)\n",
    "    e2 = pos_CB\n",
    "    e2 /= np.linalg.norm(e2)\n",
    "    e2 = e2.T\n",
    "    e3 = np.cross(e1, e2)\n",
    "\n",
    "    # N-C and e2 are not perfectly perpendicular to one another. We adjust e2.\n",
    "    e2 = np.cross(e1, -e3)\n",
    "\n",
    "    if z_direction == ZDirection.outward:\n",
    "        # Use e3 as z-direction\n",
    "        rot_matrix = np.array([e1, e2, e3])\n",
    "    elif z_direction == ZDirection.backbone:\n",
    "        # Use backbone direction as z-direction\n",
    "        rot_matrix = np.array([e2, e3, e1])\n",
    "    elif z_direction == ZDirection.sidechain:\n",
    "        # Use sidechain direction as z-direction\n",
    "        rot_matrix = np.array([e3, e1, e2])\n",
    "    else:\n",
    "        raise Exception(\"Unknown z-direction \")\n",
    "\n",
    "    return rot_matrix\n",
    "\n",
    "\n",
    "def cartesian_to_spherical_coordinates(xyz):\n",
    "    \"\"\"Convert set of Cartesian coordinates to spherical-polar coordinates\"\"\"\n",
    "\n",
    "    # Convert to spherical coordinates\n",
    "    r = np.sqrt(xyz[:, 0] ** 2 + xyz[:, 1] ** 2 + xyz[:, 2] ** 2)\n",
    "    theta = np.arctan2(np.sqrt(xyz[:, 0] ** 2 + xyz[:, 1] ** 2), xyz[:, 2])  # polar angle - inclination from z-axis\n",
    "    phi = np.arctan2(xyz[:, 1], xyz[:, 0])\n",
    "\n",
    "    return r, theta, phi\n",
    "\n",
    "\n",
    "def discretize_into_spherical_bins(r, theta, phi, max_r,\n",
    "                                   r_shape, theta_shape, phi_shape):\n",
    "    \"\"\"Map r, theta, phi values to discrete grid bin\"\"\"\n",
    "\n",
    "    # Bin each dimension independently\n",
    "    r_boundaries = np.linspace(0, max_r, r_shape, endpoint=False)\n",
    "    r_boundaries += (max_r - r_boundaries[-1])\n",
    "    theta_boundaries = np.linspace(0, np.pi, theta_shape, endpoint=False)\n",
    "    theta_boundaries += (theta_boundaries[1] - theta_boundaries[0])\n",
    "    phi_boundaries = np.linspace(-np.pi, np.pi, phi_shape, endpoint=False)\n",
    "    phi_boundaries += (phi_boundaries[1] - phi_boundaries[0])\n",
    "    r_bin = np.digitize(r, r_boundaries)\n",
    "    # Return the indices of the bins to which each value in input array belongs.\n",
    "    theta_bin = np.digitize(theta, theta_boundaries)\n",
    "    phi_bin = np.digitize(phi, phi_boundaries)\n",
    "\n",
    "    # For phi angle, check for periodicity issues\n",
    "    # When phi=pi, it will be mapped to the wrong bin\n",
    "    phi_bin[phi_bin == phi_shape] = 0\n",
    "\n",
    "    # Disallow any larger phi angles\n",
    "    assert (not np.any(phi_bin > phi_shape))\n",
    "    assert (not np.any(theta_bin > theta_shape))\n",
    "\n",
    "    return r_bin, theta_bin, phi_bin\n",
    "\n",
    "\n",
    "def discretize_into_cubed_sphere_bins(patch, r, xi, eta, max_r,\n",
    "                                      r_shape, xi_shape, eta_shape):\n",
    "    \"\"\"Map r, theta, phi values to discrete grid bin\"\"\"\n",
    "\n",
    "    # Bin each dimension independently\n",
    "    r_boundaries = np.linspace(0, max_r, r_shape, endpoint=False)\n",
    "    r_boundaries += (max_r - r_boundaries[-1])\n",
    "    xi_boundaries = np.linspace(-np.pi / 4, np.pi / 4, xi_shape, endpoint=False)\n",
    "    xi_boundaries += (xi_boundaries[1] - xi_boundaries[0])\n",
    "    eta_boundaries = np.linspace(-np.pi / 4, np.pi / 4, eta_shape, endpoint=False)\n",
    "    eta_boundaries += (eta_boundaries[1] - eta_boundaries[0])\n",
    "    r_bin = np.digitize(r, r_boundaries)\n",
    "    xi_bin = np.digitize(xi, xi_boundaries)\n",
    "    eta_bin = np.digitize(eta, eta_boundaries)\n",
    "\n",
    "    # Disallow any larger xi, eta angles\n",
    "    assert (not np.any(r_bin < 0))\n",
    "    assert (not np.any(xi_bin < 0))\n",
    "    assert (not np.any(eta_bin < 0))\n",
    "    assert (not np.any(xi_bin > xi_shape))\n",
    "    assert (not np.any(eta_bin > eta_shape))\n",
    "\n",
    "    return patch, r_bin, xi_bin, eta_bin\n",
    "\n",
    "\n",
    "def cartesian_to_cubed_sphere(x, y, z, rtol=1e-05):\n",
    "    \"\"\"Convert set of Cartesian coordinates to cubed-sphere coordinates\n",
    "    Consists of 6 coordinate systems, gnomonic coordinates are used in calculation\n",
    "\n",
    "    Consult 10.1006/jcph.1996.0047 for rules of transformations\"\"\"\n",
    "\n",
    "    r = np.sqrt(x ** 2 + y ** 2 + z ** 2)\n",
    "\n",
    "    if r < rtol:\n",
    "        patch = 0\n",
    "        xi = 0.\n",
    "        eta = 0.\n",
    "\n",
    "    elif x >= np.abs(y) and x >= np.abs(z):\n",
    "        # Front patch (I)\n",
    "        patch = 0\n",
    "        xi = np.arctan2(y, x)\n",
    "        eta = np.arctan2(z, x)\n",
    "\n",
    "    elif y >= np.abs(x) and y >= np.abs(z):\n",
    "        # East patch (II)\n",
    "        patch = 1\n",
    "        xi = np.arctan2(-x, y)\n",
    "        eta = np.arctan2(z, y)\n",
    "\n",
    "    elif -x >= np.abs(y) and -x >= np.abs(z):\n",
    "        # Back patch (III)\n",
    "        patch = 2\n",
    "        xi = np.arctan2(y, x)\n",
    "        eta = np.arctan2(-z, x)\n",
    "\n",
    "    elif -y >= np.abs(x) and -y >= np.abs(z):\n",
    "        # West  patch (IV)\n",
    "        patch = 3\n",
    "        xi = np.arctan2(-x, y)\n",
    "        eta = np.arctan2(-z, y)\n",
    "\n",
    "    elif z >= np.abs(x) and z >= np.abs(y):\n",
    "        # North patch (V)\n",
    "        patch = 4\n",
    "        xi = np.arctan2(y, z)\n",
    "        eta = np.arctan2(-x, z)\n",
    "\n",
    "    elif -z >= np.abs(x) and -z >= np.abs(y):\n",
    "        # South patch (VI)\n",
    "        patch = 5\n",
    "        xi = np.arctan2(-y, z)\n",
    "        eta = np.arctan2(-x, z)\n",
    "\n",
    "    else:\n",
    "        raise ArithmeticError(\"Should never happen\")\n",
    "\n",
    "    return patch, r, xi, eta\n",
    "\n",
    "\n",
    "# Vectorized version of cartesian_to_cubed_sphere\n",
    "cartesian_to_cubed_sphere_vectorized = np.vectorize(cartesian_to_cubed_sphere,\n",
    "                                                    otypes=[np.int, np.float, np.float, np.float])\n",
    "\n",
    "\n",
    "def discretize_into_cartesian_bins(xyz, max_radius, shape):\n",
    "    \"\"\"Map x,y,z values to discrete grid bin\"\"\"\n",
    "\n",
    "    assert (len(shape) == 4)\n",
    "    assert (shape[0] == shape[1] == shape[2])\n",
    "\n",
    "    n_bins = shape[0]\n",
    "    boundaries = np.linspace(-max_radius, max_radius, n_bins, endpoint=False)\n",
    "    boundaries += (boundaries[1] - boundaries[0])\n",
    "\n",
    "    indices = np.digitize(xyz, boundaries)\n",
    "\n",
    "    return indices\n",
    "\n",
    "\n",
    "def cubed_sphere_to_unfolded_plane(patch, xi, eta, offsets=np.array([[1, 1], [2, 1], [3, 1], [0, 1], [1, 2], [1, 0]])):\n",
    "    r\"\"\"Unfold points on the cubed sphere into a plane.\n",
    "\n",
    "    Args:\n",
    "        patch: `int`. Cube face.\n",
    "        xi: `int`. Xi value.\n",
    "        eta: `int`. Eta value.\n",
    "        offsets: `numpy.array` of X,Y offsets\n",
    "\n",
    "\n",
    "    Returns:\n",
    "        A `numpy.array` of points in the XY plane.\n",
    "\n",
    "    \"\"\"\n",
    "    return offsets[patch] + (np.array([xi, eta]) + np.pi / 4) / (np.pi / 2)"
   ]
  },
  {
   "cell_type": "code",
   "execution_count": null,
   "metadata": {},
   "outputs": [],
   "source": [
    "a = create_cartesian_grid(12, 2, 2)\n",
    "print(a.shape)"
   ]
  },
  {
   "cell_type": "code",
   "execution_count": null,
   "metadata": {},
   "outputs": [],
   "source": [
    "x_coord = features['x']\n",
    "y_coord = features['y']\n",
    "z_coord = features['z']\n",
    "xyz = structured_to_unstructured(features[['x', 'y', 'z']], dtype=np.float32)"
   ]
  },
  {
   "cell_type": "code",
   "execution_count": null,
   "metadata": {},
   "outputs": [],
   "source": [
    "def create_cartesian_box(xyz, n_bins):\n",
    "    \"\"\"\n",
    "    Create cartesian box for the whole protein\n",
    "    :param xyz:\n",
    "    :param n_bins:\n",
    "    :return:\n",
    "    \"\"\"\n",
    "    max_val = np.amax(xyz)\n",
    "    min_val = np.amin(xyz)\n",
    "    radius = int(np.ceil((max_val - min_val)/2 + 5))\n",
    "    # Only for 1 feature, e.g. charge\n",
    "    box = create_cartesian_grid(radius, 1, n_bins)\n",
    "\n",
    "    return box, max_val, min_val"
   ]
  },
  {
   "cell_type": "code",
   "execution_count": null,
   "metadata": {},
   "outputs": [],
   "source": [
    "all_coords = structured_to_unstructured(features[['x', 'y', 'z']], dtype=np.float32)\n",
    "all_coords.reshape(all_coords.shape[0], 3)\n",
    "box_grid, max_val, min_val = create_cartesian_box(all_coords, 2)\n",
    "\n",
    "assert (len(box_grid.shape) == 4)\n",
    "assert (box_grid.shape[0] == box_grid.shape[1] == box_grid.shape[2])\n",
    "n_b = box_grid.shape[0]\n",
    "\n",
    "boundaries = np.linspace(np.floor(min_val-5), np.ceil(max_val+5), n_b, endpoint=False)"
   ]
  },
  {
   "cell_type": "code",
   "execution_count": null,
   "metadata": {},
   "outputs": [],
   "source": [
    "boundaries += boundaries[1] - boundaries[0]"
   ]
  },
  {
   "cell_type": "code",
   "execution_count": null,
   "metadata": {},
   "outputs": [],
   "source": [
    "features.shape"
   ]
  },
  {
   "cell_type": "code",
   "execution_count": null,
   "metadata": {},
   "outputs": [],
   "source": [
    "for res in np.unique(features[['res_index']]):\n",
    "    selector = (features[['res_index']] == res)\n",
    "    for atom in features[selector]:\n",
    "        print(res, atom)\n"
   ]
  },
  {
   "cell_type": "code",
   "execution_count": null,
   "metadata": {},
   "outputs": [],
   "source": [
    "np.sqrt(0.171**2 + 1.279**2 + 0.701**2)"
   ]
  },
  {
   "cell_type": "code",
   "execution_count": null,
   "metadata": {},
   "outputs": [],
   "source": [
    "all_coords "
   ]
  },
  {
   "cell_type": "code",
   "execution_count": null,
   "metadata": {},
   "outputs": [],
   "source": [
    "indexx = np.digitize(all_coords, boundaries).reshape(all_coords.shape[0], 3)\n",
    "\n",
    "for row in indexx[:10]:\n",
    "    print(row)"
   ]
  },
  {
   "cell_type": "code",
   "execution_count": null,
   "metadata": {},
   "outputs": [],
   "source": [
    "for ind, row in enumerate(indexx[:]):\n",
    "    box_grid[row[0], row[1], row[2]] = features[['charge']][ind][0][0]"
   ]
  },
  {
   "cell_type": "code",
   "execution_count": null,
   "metadata": {},
   "outputs": [],
   "source": [
    "box_grid[78, 113, 70]"
   ]
  },
  {
   "cell_type": "code",
   "execution_count": null,
   "metadata": {},
   "outputs": [],
   "source": [
    "def construct_kernel(sigma, kernlen=None):\n",
    "    omega = 1 / sigma\n",
    "\n",
    "    if kernlen:\n",
    "        pass\n",
    "    else:\n",
    "        kernlen = 8 * sigma + 1\n",
    "\n",
    "    ax = np.arange(-kernlen // 2 + 1., kernlen // 2 + 1.)\n",
    "    xx, yy, zz = np.meshgrid(ax, ax, ax)\n",
    "    kernel = np.exp(-(xx ** 2 + yy ** 2 + zz ** 2) / (2 * sigma ** 2)) * np.cos(\n",
    "        2 * np.pi * omega * np.sqrt(xx ** 2 + yy ** 2 + zz ** 2))\n",
    "\n",
    "    return kernel"
   ]
  },
  {
   "cell_type": "code",
   "execution_count": null,
   "metadata": {},
   "outputs": [],
   "source": [
    "kern = construct_kernel(1)\n",
    "print(kern.shape)\n",
    "print(9//2)"
   ]
  },
  {
   "cell_type": "code",
   "execution_count": null,
   "metadata": {},
   "outputs": [],
   "source": [
    "kern[4,4,:]"
   ]
  },
  {
   "cell_type": "code",
   "execution_count": null,
   "metadata": {},
   "outputs": [],
   "source": [
    "import matplotlib.pyplot as plt\n",
    "from mpl_toolkits.mplot3d import Axes3D\n",
    "\n",
    "sigma = 2\n",
    "omega = 1/sigma\n",
    "ax = np.arange(-(8*sigma + 1) // 2 + 1., (8*sigma + 1) // 2 + 1.)\n",
    "xx, yy = np.meshgrid(ax, ax)\n",
    "kernel = np.exp(-(xx**2 + yy**2)/(2*sigma**2))*np.cos(2*np.pi*omega*np.sqrt(xx**2 + yy**2))\n",
    "\n",
    "fig = plt.figure()\n",
    "ax = plt.axes(projection='3d')\n",
    "ax.plot_wireframe(xx, yy, kernel, color='black')\n",
    "ax.view_init(80, 45)"
   ]
  },
  {
   "cell_type": "code",
   "execution_count": null,
   "metadata": {},
   "outputs": [],
   "source": [
    "box_grid.shape"
   ]
  },
  {
   "cell_type": "code",
   "execution_count": null,
   "metadata": {},
   "outputs": [],
   "source": [
    "import numpy as np\n",
    "from numpy.lib.recfunctions import structured_to_unstructured\n",
    "from scipy import signal\n",
    "from multiprocessing import Pool\n",
    "from functools import partial\n",
    "\n",
    "from Grids import grids\n",
    "\n",
    "VdWs = {\n",
    "    np.float32(1.007947): 0.6,\n",
    "    np.float32(12.01078): 1.9,\n",
    "    np.float32(14.00672): 1.8,\n",
    "    np.float32(15.99943): 1.7,\n",
    "    np.float32(32.0655): 2.0\n",
    "}\n",
    "\n",
    "\n",
    "def construct_kernel(sigma, kernlen=None):\n",
    "    omega = 1 / sigma\n",
    "\n",
    "    if kernlen:\n",
    "        pass\n",
    "    else:\n",
    "        kernlen = 8 * sigma + 1\n",
    "\n",
    "    ax = np.arange(-kernlen // 2 + 1., kernlen // 2 + 1.)\n",
    "    xx, yy, zz = np.meshgrid(ax, ax, ax)\n",
    "    kernel = np.exp(-(xx ** 2 + yy ** 2 + zz ** 2) / (2 * sigma ** 2)) * np.cos(\n",
    "        2 * np.pi * omega * np.sqrt(xx ** 2 + yy ** 2 + zz ** 2))\n",
    "\n",
    "    return kernel\n",
    "\n",
    "\n",
    "def pool_conv(feature, box_grid, kernels, index_pair):\n",
    "    shape = (box_grid.shape[0], box_grid.shape[0], box_grid.shape[0])\n",
    "    row = index_pair[1]\n",
    "    ind = index_pair[0]\n",
    "    temp_box = np.zeros(shape, dtype=np.float32)\n",
    "    atominfo = feature[ind]\n",
    "    atom_mass = atominfo['mass'][0]\n",
    "    temp_box[row[0], row[1], row[2]] = feature[['charge']][ind][0][0]\n",
    "    smooth_temp = signal.convolve(temp_box, kernels[atom_mass], mode=\"same\")\n",
    "    print(np.count_nonzero(smooth_temp), smooth_temp.size)\n",
    "\n",
    "def wave_transform_smoothing(features, n_bins=4):\n",
    "    all_coords = structured_to_unstructured(features[['x', 'y', 'z']], dtype=np.float32)\n",
    "    all_coords.reshape(all_coords.shape[0], 3)\n",
    "    box_grid, max_val, min_val = grids.create_cartesian_box(all_coords, n_bins)\n",
    "\n",
    "    assert (len(box_grid.shape) == 4)\n",
    "    assert (box_grid.shape[0] == box_grid.shape[1] == box_grid.shape[2])\n",
    "    n_b = box_grid.shape[0]\n",
    "\n",
    "    boundaries = np.linspace(np.floor(min_val - 5), np.ceil(max_val + 5), n_b, endpoint=False)\n",
    "    boundaries += (boundaries[1] - boundaries[0])\n",
    "\n",
    "    indexx = np.digitize(all_coords, boundaries).reshape(all_coords.shape[0], 3)\n",
    "    shape = box_grid.shape[0]\n",
    "    box_grid = box_grid.reshape(shape, shape, shape)\n",
    "\n",
    "    kernels = {}\n",
    "\n",
    "    for mass in np.unique(features[['mass']]):\n",
    "        sigma_hradius = np.ceil(VdWs[mass[0]] * n_bins) / 4\n",
    "        kernel = construct_kernel(sigma_hradius)\n",
    "        kernels.update({mass[0]: kernel})\n",
    "\n",
    "    ind_pair = [i for i in enumerate(indexx)]\n",
    "    pool = Pool(8)\n",
    "    pool_conv_part = partial(pool_conv, features, box_grid, kernels)\n",
    "    pool.map(pool_conv_part, ind_pair)\n",
    "    pool.close()\n",
    "    pool.join()"
   ]
  },
  {
   "cell_type": "code",
   "execution_count": null,
   "metadata": {},
   "outputs": [],
   "source": [
    "wave_transform_smoothing(features)"
   ]
  },
  {
   "cell_type": "code",
   "execution_count": null,
   "metadata": {},
   "outputs": [],
   "source": [
    "VdWs[14.00672]"
   ]
  },
  {
   "cell_type": "code",
   "execution_count": null,
   "metadata": {},
   "outputs": [],
   "source": [
    "%matplotlib inline"
   ]
  },
  {
   "cell_type": "code",
   "execution_count": null,
   "metadata": {},
   "outputs": [],
   "source": [
    "\"\"\"Stored in a separate module so it can be readily accessed both by feature extraction and model. Modified version\n",
    "of 2017 Jes Frellsen and Wouter Boomsma module\n",
    "\n",
    "Some additional opportunities:\n",
    "https://www.researchgate.net/publication/224017908_The_Evolution_of_Dynamical_Cores_for_Global_Atmospheric_Models\n",
    "/figures?lo=1\"\"\"\n",
    "\n",
    "import enum\n",
    "import sys\n",
    "\n",
    "import Bio.PDB\n",
    "import numpy as np\n",
    "\n",
    "sys.path.append('..')\n",
    "\n",
    "# noinspection PyArgumentList\n",
    "CoordinateSystem = enum.Enum(\"CoordinateSystem\", {\"spherical\": 1, \"cubed_sphere\": 2, \"cartesian\": 3})\n",
    "# noinspection PyArgumentList\n",
    "ZDirection = enum.Enum(\"ZDirection\", {\"sidechain\": 1, \"backbone\": 2, \"outward\": 3})\n",
    "\n",
    "\n",
    "def get_spherical_grid_shape(max_radius, n_features, bins_per_angstrom):\n",
    "    \"\"\"Defines shape of grid matrix\"\"\"\n",
    "    return (int(np.ceil(bins_per_angstrom * max_radius)),  # Shell num\n",
    "            int(np.ceil(bins_per_angstrom * max_radius * np.pi)),\n",
    "            int(np.ceil(bins_per_angstrom * max_radius * 2 * np.pi)),\n",
    "            n_features)\n",
    "\n",
    "\n",
    "def create_spherical_grid(max_radius, n_features, bins_per_angstrom):\n",
    "    \"\"\"Creates empty spherical grid\"\"\"\n",
    "\n",
    "    grid_matrix = np.zeros(shape=get_spherical_grid_shape(max_radius, n_features, bins_per_angstrom))\n",
    "\n",
    "    return grid_matrix\n",
    "\n",
    "\n",
    "def get_cubed_sphere_grid_shape(max_radius, n_features, bins_per_angstrom):\n",
    "    \"\"\"Defines shape of grid matrix\n",
    "    See http://acmg.seas.harvard.edu/geos/cubed_sphere/CubeSphere_comparision.html\n",
    "    http://acmg.seas.harvard.edu/geos/cubed_sphere/CubeSphere_step-by-step.html for reference\"\"\"\n",
    "    return (6,\n",
    "            int(np.ceil(bins_per_angstrom * max_radius)),\n",
    "            int(np.ceil(bins_per_angstrom * max_radius * np.pi / 2)),\n",
    "            int(np.ceil(bins_per_angstrom * max_radius * np.pi / 2)),\n",
    "            n_features)\n",
    "\n",
    "\n",
    "def create_cubed_sphere_grid(max_radius, n_features, bins_per_angstrom):\n",
    "    \"\"\"Creates cubed sphere grid\"\"\"\n",
    "\n",
    "    grid_matrix = np.zeros(shape=get_cubed_sphere_grid_shape(max_radius, n_features, bins_per_angstrom))\n",
    "\n",
    "    return grid_matrix\n",
    "\n",
    "\n",
    "def get_cartesian_grid_shape(max_radius, n_features, bins_per_angstrom):\n",
    "    \"\"\"Defines shape of grid matrix\"\"\"\n",
    "    return 3 * (int(np.ceil(2 * bins_per_angstrom * max_radius)),) + (n_features,)\n",
    "\n",
    "\n",
    "def create_cartesian_grid(max_radius, n_features, bins_per_angstrom):\n",
    "    \"\"\"Creates cartesian grid\"\"\"\n",
    "\n",
    "    grid_matrix = np.zeros(shape=get_cartesian_grid_shape(max_radius, n_features, bins_per_angstrom))\n",
    "\n",
    "    return grid_matrix\n",
    "\n",
    "\n",
    "def create_cartesian_box(xyz, n_bins):\n",
    "    \"\"\"\n",
    "    Create cartesian box for the whole protein\n",
    "    :param xyz:\n",
    "    :param n_bins:\n",
    "    :return:\n",
    "    \"\"\"\n",
    "    max_val = np.amax(xyz)\n",
    "    min_val = np.amin(xyz)\n",
    "    radius = int(np.ceil((max_val - min_val) / 2 + 5))\n",
    "    # Only for 1 feature, e.g. charge\n",
    "    box = create_cartesian_grid(radius, 1, n_bins)\n",
    "\n",
    "    return box, max_val, min_val\n",
    "\n",
    "\n",
    "get_grid_shape_map = {CoordinateSystem.spherical: get_spherical_grid_shape,\n",
    "                      CoordinateSystem.cubed_sphere: get_cubed_sphere_grid_shape,\n",
    "                      CoordinateSystem.cartesian: get_cartesian_grid_shape}\n",
    "\n",
    "create_grid_map = {CoordinateSystem.spherical: create_spherical_grid,\n",
    "                   CoordinateSystem.cubed_sphere: create_cubed_sphere_grid,\n",
    "                   CoordinateSystem.cartesian: create_cartesian_grid}\n",
    "\n",
    "\n",
    "def define_coordinate_system(pos_N, pos_CA, pos_C, z_direction):\n",
    "    \"\"\"Defines a local reference system based on N, CA, and C atom positions\"\"\"\n",
    "\n",
    "    # Define local coordinate system\n",
    "    e1 = (pos_C - pos_N)\n",
    "    # Normalised vector e1 (backbone direction)\n",
    "    e1 /= np.linalg.norm(e1)\n",
    "\n",
    "    # Define CB positions by rotating N atoms around CA-C axis 120 degr\n",
    "    pos_N_res = pos_N - pos_CA\n",
    "    axis = pos_CA - pos_C\n",
    "    # Calculate left rotational matrix that rotates 120 degr around axis vector\n",
    "    pos_CB = np.dot(Bio.PDB.rotaxis((120. / 180.) * np.pi, Bio.PDB.vectors.Vector(axis[0, :])), pos_N_res.T)\n",
    "    e2 = pos_CB\n",
    "    e2 /= np.linalg.norm(e2)\n",
    "    e2 = e2.T\n",
    "    e3 = np.cross(e1, e2)\n",
    "\n",
    "    # N-C and e2 are not perfectly perpendicular to one another. We adjust e2.\n",
    "    e2 = np.cross(e1, -e3)\n",
    "\n",
    "    if z_direction == ZDirection.outward:\n",
    "        # Use e3 as z-direction\n",
    "        rot_matrix = np.array([e1, e2, e3])\n",
    "    elif z_direction == ZDirection.backbone:\n",
    "        # Use backbone direction as z-direction\n",
    "        rot_matrix = np.array([e2, e3, e1])\n",
    "    elif z_direction == ZDirection.sidechain:\n",
    "        # Use sidechain direction as z-direction\n",
    "        rot_matrix = np.array([e3, e1, e2])\n",
    "    else:\n",
    "        raise Exception(\"Unknown z-direction \")\n",
    "\n",
    "    return rot_matrix\n",
    "\n",
    "\n",
    "def cartesian_to_spherical_coordinates(xyz):\n",
    "    \"\"\"Convert set of Cartesian coordinates to spherical-polar coordinates\"\"\"\n",
    "\n",
    "    # Convert to spherical coordinates\n",
    "    r = np.sqrt(xyz[:, 0] ** 2 + xyz[:, 1] ** 2 + xyz[:, 2] ** 2)\n",
    "    theta = np.arctan2(np.sqrt(xyz[:, 0] ** 2 + xyz[:, 1] ** 2), xyz[:, 2])  # polar angle - inclination from z-axis\n",
    "    phi = np.arctan2(xyz[:, 1], xyz[:, 0])\n",
    "\n",
    "    return r, theta, phi\n",
    "\n",
    "\n",
    "def discretize_into_spherical_bins(r, theta, phi, max_r,\n",
    "                                   r_shape, theta_shape, phi_shape):\n",
    "    \"\"\"Map r, theta, phi values to discrete grid bin\"\"\"\n",
    "\n",
    "    # Bin each dimension independently\n",
    "    r_boundaries = np.linspace(0, max_r, r_shape, endpoint=False)\n",
    "    r_boundaries += (max_r - r_boundaries[-1])\n",
    "    theta_boundaries = np.linspace(0, np.pi, theta_shape, endpoint=False)\n",
    "    theta_boundaries += (theta_boundaries[1] - theta_boundaries[0])\n",
    "    phi_boundaries = np.linspace(-np.pi, np.pi, phi_shape, endpoint=False)\n",
    "    phi_boundaries += (phi_boundaries[1] - phi_boundaries[0])\n",
    "    r_bin = np.digitize(r, r_boundaries)\n",
    "    # Return the indices of the bins to which each value in input array belongs.\n",
    "    theta_bin = np.digitize(theta, theta_boundaries)\n",
    "    phi_bin = np.digitize(phi, phi_boundaries)\n",
    "\n",
    "    # For phi angle, check for periodicity issues\n",
    "    # When phi=pi, it will be mapped to the wrong bin\n",
    "    phi_bin[phi_bin == phi_shape] = 0\n",
    "\n",
    "    # Disallow any larger phi angles\n",
    "    assert (not np.any(phi_bin > phi_shape))\n",
    "    assert (not np.any(theta_bin > theta_shape))\n",
    "\n",
    "    return r_bin, theta_bin, phi_bin\n",
    "\n",
    "\n",
    "def discretize_into_cubed_sphere_bins(patch, r, xi, eta, max_r,\n",
    "                                      r_shape, xi_shape, eta_shape):\n",
    "    \"\"\"Map r, theta, phi values to discrete grid bin\"\"\"\n",
    "\n",
    "    # Bin each dimension independently\n",
    "    r_boundaries = np.linspace(0, max_r, r_shape, endpoint=False)\n",
    "    r_boundaries += (max_r - r_boundaries[-1])\n",
    "    xi_boundaries = np.linspace(-np.pi / 4, np.pi / 4, xi_shape, endpoint=False)\n",
    "    xi_boundaries += (xi_boundaries[1] - xi_boundaries[0])\n",
    "    eta_boundaries = np.linspace(-np.pi / 4, np.pi / 4, eta_shape, endpoint=False)\n",
    "    eta_boundaries += (eta_boundaries[1] - eta_boundaries[0])\n",
    "    r_bin = np.digitize(r, r_boundaries)\n",
    "    xi_bin = np.digitize(xi, xi_boundaries)\n",
    "    eta_bin = np.digitize(eta, eta_boundaries)\n",
    "\n",
    "    # Disallow any larger xi, eta angles\n",
    "    assert (not np.any(r_bin < 0))\n",
    "    assert (not np.any(xi_bin < 0))\n",
    "    assert (not np.any(eta_bin < 0))\n",
    "    assert (not np.any(xi_bin > xi_shape))\n",
    "    assert (not np.any(eta_bin > eta_shape))\n",
    "\n",
    "    return patch, r_bin, xi_bin, eta_bin\n",
    "\n",
    "\n",
    "def cartesian_to_cubed_sphere(x, y, z, rtol=1e-05):\n",
    "    \"\"\"Convert set of Cartesian coordinates to cubed-sphere coordinates\n",
    "    Consists of 6 coordinate systems, gnomonic coordinates are used in calculation\n",
    "\n",
    "    Consult 10.1006/jcph.1996.0047 for rules of transformations\"\"\"\n",
    "\n",
    "    r = np.sqrt(x ** 2 + y ** 2 + z ** 2)\n",
    "\n",
    "    if r < rtol:\n",
    "        patch = 0\n",
    "        xi = 0.\n",
    "        eta = 0.\n",
    "\n",
    "    elif x >= np.abs(y) and x >= np.abs(z):\n",
    "        # Front patch (I)\n",
    "        patch = 0\n",
    "        xi = np.arctan2(y, x)\n",
    "        eta = np.arctan2(z, x)\n",
    "\n",
    "    elif y >= np.abs(x) and y >= np.abs(z):\n",
    "        # East patch (II)\n",
    "        patch = 1\n",
    "        xi = np.arctan2(-x, y)\n",
    "        eta = np.arctan2(z, y)\n",
    "\n",
    "    elif -x >= np.abs(y) and -x >= np.abs(z):\n",
    "        # Back patch (III)\n",
    "        patch = 2\n",
    "        xi = np.arctan2(y, x)\n",
    "        eta = np.arctan2(-z, x)\n",
    "\n",
    "    elif -y >= np.abs(x) and -y >= np.abs(z):\n",
    "        # West  patch (IV)\n",
    "        patch = 3\n",
    "        xi = np.arctan2(-x, y)\n",
    "        eta = np.arctan2(-z, y)\n",
    "\n",
    "    elif z >= np.abs(x) and z >= np.abs(y):\n",
    "        # North patch (V)\n",
    "        patch = 4\n",
    "        xi = np.arctan2(y, z)\n",
    "        eta = np.arctan2(-x, z)\n",
    "\n",
    "    elif -z >= np.abs(x) and -z >= np.abs(y):\n",
    "        # South patch (VI)\n",
    "        patch = 5\n",
    "        xi = np.arctan2(-y, z)\n",
    "        eta = np.arctan2(-x, z)\n",
    "\n",
    "    else:\n",
    "        raise ArithmeticError(\"Should never happen\")\n",
    "\n",
    "    return patch, r, xi, eta\n",
    "\n",
    "\n",
    "# Vectorized version of cartesian_to_cubed_sphere\n",
    "cartesian_to_cubed_sphere_vectorized = np.vectorize(cartesian_to_cubed_sphere,\n",
    "                                                    otypes=[np.int, np.float, np.float, np.float])\n",
    "\n",
    "\n",
    "def discretize_into_cartesian_bins(xyz, max_radius, shape):\n",
    "    \"\"\"Map x,y,z values to discrete grid bin\"\"\"\n",
    "\n",
    "    assert (len(shape) == 4)\n",
    "    assert (shape[0] == shape[1] == shape[2])\n",
    "\n",
    "    n_bins = shape[0]\n",
    "    boundaries = np.linspace(-max_radius, max_radius, n_bins, endpoint=False)\n",
    "    boundaries += (boundaries[1] - boundaries[0])\n",
    "\n",
    "    indices = np.digitize(xyz, boundaries)\n",
    "\n",
    "    return indices\n",
    "\n",
    "\n",
    "def cubed_sphere_to_unfolded_plane(patch, xi, eta, offsets=np.array([[1, 1], [2, 1], [3, 1], [0, 1], [1, 2], [1, 0]])):\n",
    "    r\"\"\"Unfold points on the cubed sphere into a plane.\n",
    "\n",
    "    Args:\n",
    "        patch: `int`. Cube face.\n",
    "        xi: `int`. Xi value.\n",
    "        eta: `int`. Eta value.\n",
    "        offsets: `numpy.array` of X,Y offsets\n",
    "\n",
    "\n",
    "    Returns:\n",
    "        A `numpy.array` of points in the XY plane.\n",
    "\n",
    "    \"\"\"\n",
    "    return offsets[patch] + (np.array([xi, eta]) + np.pi / 4) / (np.pi / 2)\n",
    "\n"
   ]
  },
  {
   "cell_type": "code",
   "execution_count": null,
   "metadata": {},
   "outputs": [],
   "source": []
  },
  {
   "cell_type": "code",
   "execution_count": null,
   "metadata": {},
   "outputs": [],
   "source": []
  }
 ],
 "metadata": {
  "kernelspec": {
   "display_name": "Python 3",
   "language": "python",
   "name": "python3"
  },
  "language_info": {
   "codemirror_mode": {
    "name": "ipython",
    "version": 3
   },
   "file_extension": ".py",
   "mimetype": "text/x-python",
   "name": "python",
   "nbconvert_exporter": "python",
   "pygments_lexer": "ipython3",
   "version": "3.6.8"
  }
 },
 "nbformat": 4,
 "nbformat_minor": 2
}
